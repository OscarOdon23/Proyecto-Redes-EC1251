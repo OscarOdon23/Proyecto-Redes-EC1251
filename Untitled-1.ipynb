{
 "cells": [
  {
   "cell_type": "code",
   "execution_count": null,
   "metadata": {},
   "outputs": [],
   "source": [
    "import pandas as pd\n",
    "\n",
    "datos=pd.read_excel(\"data_io.xlsx\",1)\n",
    "valores=datos.astype(float)\n",
    "\n",
    "cantidadValores=valores.loc[:,\"Vpico f(V)\"]\n",
    "count=0\n",
    "for i in cantidadValores:\n",
    "  count +=1\n",
    "  print(valores.loc[count-1, \"Vpico f(V)\"])\n",
    "if all(valores)>0:\n",
    "    print(\"Es Positivo\")\n",
    "else:\n",
    "    print(\"Es Negativo\")\n",
    "    \n",
    "    "
   ]
  }
 ],
 "metadata": {
  "language_info": {
   "name": "python"
  },
  "orig_nbformat": 4
 },
 "nbformat": 4,
 "nbformat_minor": 2
}
